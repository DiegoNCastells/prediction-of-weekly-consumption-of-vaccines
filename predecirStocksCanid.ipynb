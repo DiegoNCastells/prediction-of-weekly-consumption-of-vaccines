{
 "cells": [
  {
   "cell_type": "code",
   "execution_count": 1,
   "id": "d892ca7f",
   "metadata": {},
   "outputs": [],
   "source": [
    "import pandas as pd \n",
    "import numpy as np\n",
    "import os "
   ]
  },
  {
   "cell_type": "code",
   "execution_count": 2,
   "id": "0891eb94",
   "metadata": {},
   "outputs": [],
   "source": [
    "df = pd.read_csv('vaccinations_by_practices_month.csv',encoding = 'utf-8')"
   ]
  },
  {
   "cell_type": "code",
   "execution_count": 3,
   "id": "10d6597c",
   "metadata": {},
   "outputs": [
    {
     "data": {
      "text/html": [
       "<div>\n",
       "<style scoped>\n",
       "    .dataframe tbody tr th:only-of-type {\n",
       "        vertical-align: middle;\n",
       "    }\n",
       "\n",
       "    .dataframe tbody tr th {\n",
       "        vertical-align: top;\n",
       "    }\n",
       "\n",
       "    .dataframe thead th {\n",
       "        text-align: right;\n",
       "    }\n",
       "</style>\n",
       "<table border=\"1\" class=\"dataframe\">\n",
       "  <thead>\n",
       "    <tr style=\"text-align: right;\">\n",
       "      <th></th>\n",
       "      <th>vacc</th>\n",
       "      <th>prac</th>\n",
       "      <th>week</th>\n",
       "      <th>year</th>\n",
       "      <th>totalweek</th>\n",
       "    </tr>\n",
       "  </thead>\n",
       "  <tbody>\n",
       "    <tr>\n",
       "      <th>0</th>\n",
       "      <td>VAXNEUVANCE</td>\n",
       "      <td>Pediatric Medical World</td>\n",
       "      <td>1.0</td>\n",
       "      <td>2023.0</td>\n",
       "      <td>9</td>\n",
       "    </tr>\n",
       "    <tr>\n",
       "      <th>1</th>\n",
       "      <td>VAXNEUVANCE</td>\n",
       "      <td>Pediatric Medical World</td>\n",
       "      <td>12.0</td>\n",
       "      <td>2022.0</td>\n",
       "      <td>3</td>\n",
       "    </tr>\n",
       "    <tr>\n",
       "      <th>2</th>\n",
       "      <td>VAXELIS</td>\n",
       "      <td>Margaret Safo</td>\n",
       "      <td>11.0</td>\n",
       "      <td>2022.0</td>\n",
       "      <td>1</td>\n",
       "    </tr>\n",
       "    <tr>\n",
       "      <th>3</th>\n",
       "      <td>VAXELIS</td>\n",
       "      <td>Margaret Safo</td>\n",
       "      <td>12.0</td>\n",
       "      <td>2022.0</td>\n",
       "      <td>1</td>\n",
       "    </tr>\n",
       "    <tr>\n",
       "      <th>4</th>\n",
       "      <td>VAXELIS</td>\n",
       "      <td>Pediatric Medical World</td>\n",
       "      <td>12.0</td>\n",
       "      <td>2022.0</td>\n",
       "      <td>1</td>\n",
       "    </tr>\n",
       "  </tbody>\n",
       "</table>\n",
       "</div>"
      ],
      "text/plain": [
       "          vacc                     prac  week    year  totalweek\n",
       "0  VAXNEUVANCE  Pediatric Medical World   1.0  2023.0          9\n",
       "1  VAXNEUVANCE  Pediatric Medical World  12.0  2022.0          3\n",
       "2      VAXELIS            Margaret Safo  11.0  2022.0          1\n",
       "3      VAXELIS            Margaret Safo  12.0  2022.0          1\n",
       "4      VAXELIS  Pediatric Medical World  12.0  2022.0          1"
      ]
     },
     "execution_count": 3,
     "metadata": {},
     "output_type": "execute_result"
    }
   ],
   "source": [
    "df.head()"
   ]
  },
  {
   "cell_type": "code",
   "execution_count": 4,
   "id": "bd20b3f0",
   "metadata": {},
   "outputs": [],
   "source": [
    "practices = sorted( df['prac'].unique() )\n",
    "vaccines = sorted( df['vacc'].unique() ) "
   ]
  },
  {
   "cell_type": "code",
   "execution_count": 5,
   "id": "f73d45b0",
   "metadata": {},
   "outputs": [
    {
     "data": {
      "text/plain": [
       "['Dr. Gamundi',\n",
       " 'Dr. Gupta',\n",
       " 'Dr. Kolesnikov',\n",
       " 'Emmett Pediatric Associates',\n",
       " 'Margaret Safo',\n",
       " 'Pediatric Medical World',\n",
       " 'Western Care PC',\n",
       " 'Western Care Su Salud']"
      ]
     },
     "execution_count": 5,
     "metadata": {},
     "output_type": "execute_result"
    }
   ],
   "source": [
    "practices"
   ]
  },
  {
   "cell_type": "code",
   "execution_count": 6,
   "id": "b03bc12f",
   "metadata": {},
   "outputs": [
    {
     "data": {
      "text/plain": [
       "['ActHIB',\n",
       " 'Adacel',\n",
       " 'BOOSTRIX',\n",
       " 'Bexsero',\n",
       " 'DAPTACEL',\n",
       " 'ENGERIX-B',\n",
       " 'FLUARIX QUADRIVALENT',\n",
       " 'FLUZONE',\n",
       " 'FLUZONE QUADRIVALENT',\n",
       " 'FLUZONE QUADRIVALENT NORTHERN HEMISPHERE',\n",
       " 'Flulaval Quadrivalent',\n",
       " 'GARDASIL 9',\n",
       " 'HAVRIX',\n",
       " 'HIBERIX',\n",
       " 'Hiberix',\n",
       " 'INFANRIX',\n",
       " 'IPOL',\n",
       " 'KINRIX',\n",
       " 'M-M-R II',\n",
       " 'MenQuadfi',\n",
       " 'Menactra',\n",
       " 'Menveo',\n",
       " 'PEDIARIX',\n",
       " 'PENTACEL',\n",
       " 'PREVNAR 13',\n",
       " 'PedvaxHIB',\n",
       " 'Prevnar 20',\n",
       " 'ProQuad',\n",
       " 'QUADRACEL',\n",
       " 'RECOMBIVAX HB',\n",
       " 'ROTARIX',\n",
       " 'RotaTeq',\n",
       " 'Shingrix',\n",
       " 'TENIVAC',\n",
       " 'Trumenba',\n",
       " 'VAQTA',\n",
       " 'VARIVAX',\n",
       " 'VAXELIS',\n",
       " 'VAXNEUVANCE']"
      ]
     },
     "execution_count": 6,
     "metadata": {},
     "output_type": "execute_result"
    }
   ],
   "source": [
    "vaccines"
   ]
  },
  {
   "cell_type": "code",
   "execution_count": 7,
   "id": "b545f3cd",
   "metadata": {},
   "outputs": [],
   "source": [
    "df_safo_FLUZONE_QUADRIVALENT = df[(df['prac'] == \"Margaret Safo\") & (df['vacc'] == \"GARDASIL 9\")]\n",
    "#df_safo_FLUZONE_QUADRIVALENT = df[(df['vacc'] == \"GARDASIL 9\")]"
   ]
  },
  {
   "cell_type": "code",
   "execution_count": 8,
   "id": "a2502cee",
   "metadata": {},
   "outputs": [
    {
     "data": {
      "text/html": [
       "<div>\n",
       "<style scoped>\n",
       "    .dataframe tbody tr th:only-of-type {\n",
       "        vertical-align: middle;\n",
       "    }\n",
       "\n",
       "    .dataframe tbody tr th {\n",
       "        vertical-align: top;\n",
       "    }\n",
       "\n",
       "    .dataframe thead th {\n",
       "        text-align: right;\n",
       "    }\n",
       "</style>\n",
       "<table border=\"1\" class=\"dataframe\">\n",
       "  <thead>\n",
       "    <tr style=\"text-align: right;\">\n",
       "      <th></th>\n",
       "      <th>vacc</th>\n",
       "      <th>prac</th>\n",
       "      <th>week</th>\n",
       "      <th>year</th>\n",
       "      <th>totalweek</th>\n",
       "    </tr>\n",
       "  </thead>\n",
       "  <tbody>\n",
       "    <tr>\n",
       "      <th>385</th>\n",
       "      <td>GARDASIL 9</td>\n",
       "      <td>Margaret Safo</td>\n",
       "      <td>6.0</td>\n",
       "      <td>2022.0</td>\n",
       "      <td>2</td>\n",
       "    </tr>\n",
       "    <tr>\n",
       "      <th>395</th>\n",
       "      <td>GARDASIL 9</td>\n",
       "      <td>Margaret Safo</td>\n",
       "      <td>1.0</td>\n",
       "      <td>2023.0</td>\n",
       "      <td>4</td>\n",
       "    </tr>\n",
       "    <tr>\n",
       "      <th>396</th>\n",
       "      <td>GARDASIL 9</td>\n",
       "      <td>Margaret Safo</td>\n",
       "      <td>4.0</td>\n",
       "      <td>2022.0</td>\n",
       "      <td>6</td>\n",
       "    </tr>\n",
       "    <tr>\n",
       "      <th>397</th>\n",
       "      <td>GARDASIL 9</td>\n",
       "      <td>Margaret Safo</td>\n",
       "      <td>3.0</td>\n",
       "      <td>2022.0</td>\n",
       "      <td>5</td>\n",
       "    </tr>\n",
       "    <tr>\n",
       "      <th>406</th>\n",
       "      <td>GARDASIL 9</td>\n",
       "      <td>Margaret Safo</td>\n",
       "      <td>7.0</td>\n",
       "      <td>2022.0</td>\n",
       "      <td>5</td>\n",
       "    </tr>\n",
       "    <tr>\n",
       "      <th>407</th>\n",
       "      <td>GARDASIL 9</td>\n",
       "      <td>Margaret Safo</td>\n",
       "      <td>8.0</td>\n",
       "      <td>2022.0</td>\n",
       "      <td>3</td>\n",
       "    </tr>\n",
       "    <tr>\n",
       "      <th>408</th>\n",
       "      <td>GARDASIL 9</td>\n",
       "      <td>Margaret Safo</td>\n",
       "      <td>9.0</td>\n",
       "      <td>2022.0</td>\n",
       "      <td>7</td>\n",
       "    </tr>\n",
       "    <tr>\n",
       "      <th>409</th>\n",
       "      <td>GARDASIL 9</td>\n",
       "      <td>Margaret Safo</td>\n",
       "      <td>5.0</td>\n",
       "      <td>2022.0</td>\n",
       "      <td>3</td>\n",
       "    </tr>\n",
       "    <tr>\n",
       "      <th>414</th>\n",
       "      <td>GARDASIL 9</td>\n",
       "      <td>Margaret Safo</td>\n",
       "      <td>12.0</td>\n",
       "      <td>2022.0</td>\n",
       "      <td>2</td>\n",
       "    </tr>\n",
       "    <tr>\n",
       "      <th>415</th>\n",
       "      <td>GARDASIL 9</td>\n",
       "      <td>Margaret Safo</td>\n",
       "      <td>11.0</td>\n",
       "      <td>2022.0</td>\n",
       "      <td>4</td>\n",
       "    </tr>\n",
       "    <tr>\n",
       "      <th>416</th>\n",
       "      <td>GARDASIL 9</td>\n",
       "      <td>Margaret Safo</td>\n",
       "      <td>10.0</td>\n",
       "      <td>2022.0</td>\n",
       "      <td>6</td>\n",
       "    </tr>\n",
       "  </tbody>\n",
       "</table>\n",
       "</div>"
      ],
      "text/plain": [
       "           vacc           prac  week    year  totalweek\n",
       "385  GARDASIL 9  Margaret Safo   6.0  2022.0          2\n",
       "395  GARDASIL 9  Margaret Safo   1.0  2023.0          4\n",
       "396  GARDASIL 9  Margaret Safo   4.0  2022.0          6\n",
       "397  GARDASIL 9  Margaret Safo   3.0  2022.0          5\n",
       "406  GARDASIL 9  Margaret Safo   7.0  2022.0          5\n",
       "407  GARDASIL 9  Margaret Safo   8.0  2022.0          3\n",
       "408  GARDASIL 9  Margaret Safo   9.0  2022.0          7\n",
       "409  GARDASIL 9  Margaret Safo   5.0  2022.0          3\n",
       "414  GARDASIL 9  Margaret Safo  12.0  2022.0          2\n",
       "415  GARDASIL 9  Margaret Safo  11.0  2022.0          4\n",
       "416  GARDASIL 9  Margaret Safo  10.0  2022.0          6"
      ]
     },
     "execution_count": 8,
     "metadata": {},
     "output_type": "execute_result"
    }
   ],
   "source": [
    "df_safo_FLUZONE_QUADRIVALENT"
   ]
  },
  {
   "cell_type": "code",
   "execution_count": 9,
   "id": "e9381b06",
   "metadata": {},
   "outputs": [],
   "source": [
    "import matplotlib.pyplot as plt   #66 94 73"
   ]
  },
  {
   "cell_type": "code",
   "execution_count": 10,
   "id": "650929e2",
   "metadata": {},
   "outputs": [
    {
     "data": {
      "image/png": "[encoded data removed]",
      "text/plain": [
       "<Figure size 640x480 with 1 Axes>"
      ]
     },
     "metadata": {},
     "output_type": "display_data"
    }
   ],
   "source": [
    "df_safo_FLUZONE_QUADRIVALENT.boxplot(column=['totalweek'])\n",
    "plt.show()"
   ]
  },
  {
   "cell_type": "code",
   "execution_count": 11,
   "id": "ae4e5414",
   "metadata": {},
   "outputs": [],
   "source": [
    "#automatizar la deteccion y eliminado de anomalias"
   ]
  },
  {
   "cell_type": "code",
   "execution_count": 12,
   "id": "7580f3c0",
   "metadata": {},
   "outputs": [],
   "source": [
    "df_safo_FLUZONE_QUADRIVALENT = df_safo_FLUZONE_QUADRIVALENT.drop(df_safo_FLUZONE_QUADRIVALENT.index[df_safo_FLUZONE_QUADRIVALENT['totalweek'] > 14])"
   ]
  },
  {
   "cell_type": "code",
   "execution_count": 13,
   "id": "6c685ee9",
   "metadata": {},
   "outputs": [
    {
     "data": {
      "image/png": "[encoded data removed]",
      "text/plain": [
       "<Figure size 640x480 with 1 Axes>"
      ]
     },
     "metadata": {},
     "output_type": "display_data"
    }
   ],
   "source": [
    "df_safo_FLUZONE_QUADRIVALENT.boxplot(column=['totalweek'])\n",
    "plt.show()"
   ]
  },
  {
   "cell_type": "code",
   "execution_count": 14,
   "id": "6ecfbcb5",
   "metadata": {},
   "outputs": [
    {
     "data": {
      "text/html": [
       "<div>\n",
       "<style scoped>\n",
       "    .dataframe tbody tr th:only-of-type {\n",
       "        vertical-align: middle;\n",
       "    }\n",
       "\n",
       "    .dataframe tbody tr th {\n",
       "        vertical-align: top;\n",
       "    }\n",
       "\n",
       "    .dataframe thead th {\n",
       "        text-align: right;\n",
       "    }\n",
       "</style>\n",
       "<table border=\"1\" class=\"dataframe\">\n",
       "  <thead>\n",
       "    <tr style=\"text-align: right;\">\n",
       "      <th></th>\n",
       "      <th>vacc</th>\n",
       "      <th>prac</th>\n",
       "      <th>week</th>\n",
       "      <th>year</th>\n",
       "      <th>totalweek</th>\n",
       "    </tr>\n",
       "  </thead>\n",
       "  <tbody>\n",
       "    <tr>\n",
       "      <th>385</th>\n",
       "      <td>GARDASIL 9</td>\n",
       "      <td>Margaret Safo</td>\n",
       "      <td>6.0</td>\n",
       "      <td>2022.0</td>\n",
       "      <td>2</td>\n",
       "    </tr>\n",
       "    <tr>\n",
       "      <th>395</th>\n",
       "      <td>GARDASIL 9</td>\n",
       "      <td>Margaret Safo</td>\n",
       "      <td>1.0</td>\n",
       "      <td>2023.0</td>\n",
       "      <td>4</td>\n",
       "    </tr>\n",
       "    <tr>\n",
       "      <th>396</th>\n",
       "      <td>GARDASIL 9</td>\n",
       "      <td>Margaret Safo</td>\n",
       "      <td>4.0</td>\n",
       "      <td>2022.0</td>\n",
       "      <td>6</td>\n",
       "    </tr>\n",
       "    <tr>\n",
       "      <th>397</th>\n",
       "      <td>GARDASIL 9</td>\n",
       "      <td>Margaret Safo</td>\n",
       "      <td>3.0</td>\n",
       "      <td>2022.0</td>\n",
       "      <td>5</td>\n",
       "    </tr>\n",
       "    <tr>\n",
       "      <th>406</th>\n",
       "      <td>GARDASIL 9</td>\n",
       "      <td>Margaret Safo</td>\n",
       "      <td>7.0</td>\n",
       "      <td>2022.0</td>\n",
       "      <td>5</td>\n",
       "    </tr>\n",
       "    <tr>\n",
       "      <th>407</th>\n",
       "      <td>GARDASIL 9</td>\n",
       "      <td>Margaret Safo</td>\n",
       "      <td>8.0</td>\n",
       "      <td>2022.0</td>\n",
       "      <td>3</td>\n",
       "    </tr>\n",
       "    <tr>\n",
       "      <th>408</th>\n",
       "      <td>GARDASIL 9</td>\n",
       "      <td>Margaret Safo</td>\n",
       "      <td>9.0</td>\n",
       "      <td>2022.0</td>\n",
       "      <td>7</td>\n",
       "    </tr>\n",
       "    <tr>\n",
       "      <th>409</th>\n",
       "      <td>GARDASIL 9</td>\n",
       "      <td>Margaret Safo</td>\n",
       "      <td>5.0</td>\n",
       "      <td>2022.0</td>\n",
       "      <td>3</td>\n",
       "    </tr>\n",
       "    <tr>\n",
       "      <th>414</th>\n",
       "      <td>GARDASIL 9</td>\n",
       "      <td>Margaret Safo</td>\n",
       "      <td>12.0</td>\n",
       "      <td>2022.0</td>\n",
       "      <td>2</td>\n",
       "    </tr>\n",
       "    <tr>\n",
       "      <th>415</th>\n",
       "      <td>GARDASIL 9</td>\n",
       "      <td>Margaret Safo</td>\n",
       "      <td>11.0</td>\n",
       "      <td>2022.0</td>\n",
       "      <td>4</td>\n",
       "    </tr>\n",
       "    <tr>\n",
       "      <th>416</th>\n",
       "      <td>GARDASIL 9</td>\n",
       "      <td>Margaret Safo</td>\n",
       "      <td>10.0</td>\n",
       "      <td>2022.0</td>\n",
       "      <td>6</td>\n",
       "    </tr>\n",
       "  </tbody>\n",
       "</table>\n",
       "</div>"
      ],
      "text/plain": [
       "           vacc           prac  week    year  totalweek\n",
       "385  GARDASIL 9  Margaret Safo   6.0  2022.0          2\n",
       "395  GARDASIL 9  Margaret Safo   1.0  2023.0          4\n",
       "396  GARDASIL 9  Margaret Safo   4.0  2022.0          6\n",
       "397  GARDASIL 9  Margaret Safo   3.0  2022.0          5\n",
       "406  GARDASIL 9  Margaret Safo   7.0  2022.0          5\n",
       "407  GARDASIL 9  Margaret Safo   8.0  2022.0          3\n",
       "408  GARDASIL 9  Margaret Safo   9.0  2022.0          7\n",
       "409  GARDASIL 9  Margaret Safo   5.0  2022.0          3\n",
       "414  GARDASIL 9  Margaret Safo  12.0  2022.0          2\n",
       "415  GARDASIL 9  Margaret Safo  11.0  2022.0          4\n",
       "416  GARDASIL 9  Margaret Safo  10.0  2022.0          6"
      ]
     },
     "execution_count": 14,
     "metadata": {},
     "output_type": "execute_result"
    }
   ],
   "source": [
    "df_safo_FLUZONE_QUADRIVALENT"
   ]
  },
  {
   "cell_type": "code",
   "execution_count": null,
   "id": "87a37e0a",
   "metadata": {},
   "outputs": [],
   "source": []
  },
  {
   "cell_type": "code",
   "execution_count": 15,
   "id": "82749e6b",
   "metadata": {},
   "outputs": [
    {
     "data": {
      "image/png": "[encoded data removed]",
      "text/plain": [
       "<Figure size 640x480 with 1 Axes>"
      ]
     },
     "metadata": {},
     "output_type": "display_data"
    }
   ],
   "source": [
    "plt.scatter(df_safo_FLUZONE_QUADRIVALENT['week'], df_safo_FLUZONE_QUADRIVALENT['totalweek'])\n",
    "plt.xlabel('semana del año')\n",
    "plt.ylabel('cantidad de vacunaciones en semana')\n",
    "plt.show()"
   ]
  },
  {
   "cell_type": "code",
   "execution_count": 16,
   "id": "d071e50d",
   "metadata": {},
   "outputs": [],
   "source": [
    "from sklearn.linear_model import LinearRegression\n",
    "from sklearn.model_selection import train_test_split\n",
    "from sklearn.metrics import mean_squared_error"
   ]
  },
  {
   "cell_type": "code",
   "execution_count": 17,
   "id": "2a63ae2b",
   "metadata": {},
   "outputs": [],
   "source": [
    "X = df_safo_FLUZONE_QUADRIVALENT[['week']]\n",
    "y = df_safo_FLUZONE_QUADRIVALENT[['totalweek']]\n",
    "X_train, X_test, y_train, y_test = train_test_split(X, y, test_size=0.2, random_state=0)"
   ]
  },
  {
   "cell_type": "code",
   "execution_count": 18,
   "id": "dc1f1d6d",
   "metadata": {},
   "outputs": [
    {
     "data": {
      "text/html": [
       "<style>#sk-container-id-1 {color: black;background-color: white;}#sk-container-id-1 pre{padding: 0;}#sk-container-id-1 div.sk-toggleable {background-color: white;}#sk-container-id-1 label.sk-toggleable__label {cursor: pointer;display: block;width: 100%;margin-bottom: 0;padding: 0.3em;box-sizing: border-box;text-align: center;}#sk-container-id-1 label.sk-toggleable__label-arrow:before {content: \"▸\";float: left;margin-right: 0.25em;color: #696969;}#sk-container-id-1 label.sk-toggleable__label-arrow:hover:before {color: black;}#sk-container-id-1 div.sk-estimator:hover label.sk-toggleable__label-arrow:before {color: black;}#sk-container-id-1 div.sk-toggleable__content {max-height: 0;max-width: 0;overflow: hidden;text-align: left;background-color: #f0f8ff;}#sk-container-id-1 div.sk-toggleable__content pre {margin: 0.2em;color: black;border-radius: 0.25em;background-color: #f0f8ff;}#sk-container-id-1 input.sk-toggleable__control:checked~div.sk-toggleable__content {max-height: 200px;max-width: 100%;overflow: auto;}#sk-container-id-1 input.sk-toggleable__control:checked~label.sk-toggleable__label-arrow:before {content: \"▾\";}#sk-container-id-1 div.sk-estimator input.sk-toggleable__control:checked~label.sk-toggleable__label {background-color: #d4ebff;}#sk-container-id-1 div.sk-label input.sk-toggleable__control:checked~label.sk-toggleable__label {background-color: #d4ebff;}#sk-container-id-1 input.sk-hidden--visually {border: 0;clip: rect(1px 1px 1px 1px);clip: rect(1px, 1px, 1px, 1px);height: 1px;margin: -1px;overflow: hidden;padding: 0;position: absolute;width: 1px;}#sk-container-id-1 div.sk-estimator {font-family: monospace;background-color: #f0f8ff;border: 1px dotted black;border-radius: 0.25em;box-sizing: border-box;margin-bottom: 0.5em;}#sk-container-id-1 div.sk-estimator:hover {background-color: #d4ebff;}#sk-container-id-1 div.sk-parallel-item::after {content: \"\";width: 100%;border-bottom: 1px solid gray;flex-grow: 1;}#sk-container-id-1 div.sk-label:hover label.sk-toggleable__label {background-color: #d4ebff;}#sk-container-id-1 div.sk-serial::before {content: \"\";position: absolute;border-left: 1px solid gray;box-sizing: border-box;top: 0;bottom: 0;left: 50%;z-index: 0;}#sk-container-id-1 div.sk-serial {display: flex;flex-direction: column;align-items: center;background-color: white;padding-right: 0.2em;padding-left: 0.2em;position: relative;}#sk-container-id-1 div.sk-item {position: relative;z-index: 1;}#sk-container-id-1 div.sk-parallel {display: flex;align-items: stretch;justify-content: center;background-color: white;position: relative;}#sk-container-id-1 div.sk-item::before, #sk-container-id-1 div.sk-parallel-item::before {content: \"\";position: absolute;border-left: 1px solid gray;box-sizing: border-box;top: 0;bottom: 0;left: 50%;z-index: -1;}#sk-container-id-1 div.sk-parallel-item {display: flex;flex-direction: column;z-index: 1;position: relative;background-color: white;}#sk-container-id-1 div.sk-parallel-item:first-child::after {align-self: flex-end;width: 50%;}#sk-container-id-1 div.sk-parallel-item:last-child::after {align-self: flex-start;width: 50%;}#sk-container-id-1 div.sk-parallel-item:only-child::after {width: 0;}#sk-container-id-1 div.sk-dashed-wrapped {border: 1px dashed gray;margin: 0 0.4em 0.5em 0.4em;box-sizing: border-box;padding-bottom: 0.4em;background-color: white;}#sk-container-id-1 div.sk-label label {font-family: monospace;font-weight: bold;display: inline-block;line-height: 1.2em;}#sk-container-id-1 div.sk-label-container {text-align: center;}#sk-container-id-1 div.sk-container {/* jupyter's `normalize.less` sets `[hidden] { display: none; }` but bootstrap.min.css set `[hidden] { display: none !important; }` so we also need the `!important` here to be able to override the default hidden behavior on the sphinx rendered scikit-learn.org. See: https://github.com/scikit-learn/scikit-learn/issues/21755 */display: inline-block !important;position: relative;}#sk-container-id-1 div.sk-text-repr-fallback {display: none;}</style><div id=\"sk-container-id-1\" class=\"sk-top-container\"><div class=\"sk-text-repr-fallback\"><pre>LinearRegression()</pre><b>In a Jupyter environment, please rerun this cell to show the HTML representation or trust the notebook. <br />On GitHub, the HTML representation is unable to render, please try loading this page with nbviewer.org.</b></div><div class=\"sk-container\" hidden><div class=\"sk-item\"><div class=\"sk-estimator sk-toggleable\"><input class=\"sk-toggleable__control sk-hidden--visually\" id=\"sk-estimator-id-1\" type=\"checkbox\" checked><label for=\"sk-estimator-id-1\" class=\"sk-toggleable__label sk-toggleable__label-arrow\">LinearRegression</label><div class=\"sk-toggleable__content\"><pre>LinearRegression()</pre></div></div></div></div></div>"
      ],
      "text/plain": [
       "LinearRegression()"
      ]
     },
     "execution_count": 18,
     "metadata": {},
     "output_type": "execute_result"
    }
   ],
   "source": [
    "regressor = LinearRegression()\n",
    "regressor.fit(X_train, y_train)"
   ]
  },
  {
   "cell_type": "code",
   "execution_count": 19,
   "id": "87b5c6f8",
   "metadata": {},
   "outputs": [],
   "source": [
    "y_pred = regressor.predict(X_test)"
   ]
  },
  {
   "cell_type": "code",
   "execution_count": 20,
   "id": "d4845f2c",
   "metadata": {},
   "outputs": [
    {
     "name": "stdout",
     "output_type": "stream",
     "text": [
      "Mean squared error:  1.7042547262045087\n"
     ]
    }
   ],
   "source": [
    "mse = mean_squared_error(y_test, y_pred)\n",
    "print('Mean squared error: ', mse)"
   ]
  },
  {
   "cell_type": "code",
   "execution_count": 21,
   "id": "4bc44751",
   "metadata": {},
   "outputs": [
    {
     "data": {
      "image/png": "[encoded data removed]",
      "text/plain": [
       "<Figure size 640x480 with 1 Axes>"
      ]
     },
     "metadata": {},
     "output_type": "display_data"
    }
   ],
   "source": [
    "import matplotlib.pyplot as plt\n",
    "\n",
    "plt.scatter(X_train, y_train, color='red')\n",
    "plt.plot(X_train, regressor.predict(X_train), color='blue')\n",
    "plt.title('Regresión lineal entre mes del año y cantidad de vacunaciones')\n",
    "plt.xlabel('semana del año')\n",
    "plt.ylabel('cantidad de vacunaciones en semana')\n",
    "plt.show()"
   ]
  },
  {
   "cell_type": "code",
   "execution_count": 22,
   "id": "ca79d2cf",
   "metadata": {},
   "outputs": [],
   "source": [
    "#pip install scipy\n",
    "from scipy.interpolate import interp1d"
   ]
  },
  {
   "cell_type": "code",
   "execution_count": 23,
   "id": "07c1673e",
   "metadata": {},
   "outputs": [],
   "source": [
    "x = df_safo_FLUZONE_QUADRIVALENT['week'].values \n",
    "y = df_safo_FLUZONE_QUADRIVALENT['totalweek'].values \n",
    "f = interp1d(x, y) "
   ]
  },
  {
   "cell_type": "code",
   "execution_count": 24,
   "id": "011d26f3",
   "metadata": {},
   "outputs": [],
   "source": [
    "x_new = np.linspace(x.min(), x.max(), num=12)\n",
    "y_new = f(x_new)"
   ]
  },
  {
   "cell_type": "code",
   "execution_count": 50,
   "id": "b5d5f11e",
   "metadata": {},
   "outputs": [
    {
     "data": {
      "image/png": "[encoded data removed]",
      "text/plain": [
       "<Figure size 1500x500 with 1 Axes>"
      ]
     },
     "metadata": {},
     "output_type": "display_data"
    }
   ],
   "source": [
    "plt.figure(figsize=[15,5])\n",
    "plt.scatter(x, y, marker='o', color='black')\n",
    "plt.plot(x_new, y_new, marker='o', color='blue')\n",
    "plt.title('Interpolación entre Cantidad de dosis administrada y Cantidad de pacientes')\n",
    "plt.xlabel('Cantidad de dosis administrada')\n",
    "plt.ylabel('Cantidad de pacientes')\n",
    "plt.yticks(range(0,8,2))                 \n",
    "plt.show()"
   ]
  },
  {
   "cell_type": "code",
   "execution_count": 26,
   "id": "edfefe89",
   "metadata": {},
   "outputs": [],
   "source": [
    "from sklearn.tree import DecisionTreeClassifier\n",
    "from sklearn.model_selection import train_test_split\n",
    "from sklearn.preprocessing import LabelEncoder\n"
   ]
  },
  {
   "cell_type": "code",
   "execution_count": 27,
   "id": "6b1febfc",
   "metadata": {},
   "outputs": [],
   "source": [
    "enc = LabelEncoder()\n",
    "# separar datos en conjunto de entrenamiento y prueba\n",
    "#X =  df_safo_FLUZONE_QUADRIVALENT[[\"vacc\", \"week\", \"year\"]] \n",
    "X =  df_safo_FLUZONE_QUADRIVALENT[[\"week\", \"year\"]] \n",
    "df_safo_FLUZONE_QUADRIVALENT[\"vacc\"] = enc.fit_transform(df_safo_FLUZONE_QUADRIVALENT[\"vacc\"])\n",
    "y =  df_safo_FLUZONE_QUADRIVALENT[\"totalweek\"]\n",
    "X_train, X_test, y_train, y_test = train_test_split(X, y,random_state=35, test_size=0.20)"
   ]
  },
  {
   "cell_type": "code",
   "execution_count": 28,
   "id": "4bf1d45f",
   "metadata": {},
   "outputs": [
    {
     "data": {
      "text/html": [
       "<div>\n",
       "<style scoped>\n",
       "    .dataframe tbody tr th:only-of-type {\n",
       "        vertical-align: middle;\n",
       "    }\n",
       "\n",
       "    .dataframe tbody tr th {\n",
       "        vertical-align: top;\n",
       "    }\n",
       "\n",
       "    .dataframe thead th {\n",
       "        text-align: right;\n",
       "    }\n",
       "</style>\n",
       "<table border=\"1\" class=\"dataframe\">\n",
       "  <thead>\n",
       "    <tr style=\"text-align: right;\">\n",
       "      <th></th>\n",
       "      <th>week</th>\n",
       "      <th>year</th>\n",
       "    </tr>\n",
       "  </thead>\n",
       "  <tbody>\n",
       "    <tr>\n",
       "      <th>407</th>\n",
       "      <td>8.0</td>\n",
       "      <td>2022.0</td>\n",
       "    </tr>\n",
       "    <tr>\n",
       "      <th>396</th>\n",
       "      <td>4.0</td>\n",
       "      <td>2022.0</td>\n",
       "    </tr>\n",
       "    <tr>\n",
       "      <th>416</th>\n",
       "      <td>10.0</td>\n",
       "      <td>2022.0</td>\n",
       "    </tr>\n",
       "  </tbody>\n",
       "</table>\n",
       "</div>"
      ],
      "text/plain": [
       "     week    year\n",
       "407   8.0  2022.0\n",
       "396   4.0  2022.0\n",
       "416  10.0  2022.0"
      ]
     },
     "execution_count": 28,
     "metadata": {},
     "output_type": "execute_result"
    }
   ],
   "source": [
    "X_test"
   ]
  },
  {
   "cell_type": "code",
   "execution_count": 29,
   "id": "3548f51b",
   "metadata": {},
   "outputs": [
    {
     "data": {
      "text/html": [
       "<style>#sk-container-id-2 {color: black;background-color: white;}#sk-container-id-2 pre{padding: 0;}#sk-container-id-2 div.sk-toggleable {background-color: white;}#sk-container-id-2 label.sk-toggleable__label {cursor: pointer;display: block;width: 100%;margin-bottom: 0;padding: 0.3em;box-sizing: border-box;text-align: center;}#sk-container-id-2 label.sk-toggleable__label-arrow:before {content: \"▸\";float: left;margin-right: 0.25em;color: #696969;}#sk-container-id-2 label.sk-toggleable__label-arrow:hover:before {color: black;}#sk-container-id-2 div.sk-estimator:hover label.sk-toggleable__label-arrow:before {color: black;}#sk-container-id-2 div.sk-toggleable__content {max-height: 0;max-width: 0;overflow: hidden;text-align: left;background-color: #f0f8ff;}#sk-container-id-2 div.sk-toggleable__content pre {margin: 0.2em;color: black;border-radius: 0.25em;background-color: #f0f8ff;}#sk-container-id-2 input.sk-toggleable__control:checked~div.sk-toggleable__content {max-height: 200px;max-width: 100%;overflow: auto;}#sk-container-id-2 input.sk-toggleable__control:checked~label.sk-toggleable__label-arrow:before {content: \"▾\";}#sk-container-id-2 div.sk-estimator input.sk-toggleable__control:checked~label.sk-toggleable__label {background-color: #d4ebff;}#sk-container-id-2 div.sk-label input.sk-toggleable__control:checked~label.sk-toggleable__label {background-color: #d4ebff;}#sk-container-id-2 input.sk-hidden--visually {border: 0;clip: rect(1px 1px 1px 1px);clip: rect(1px, 1px, 1px, 1px);height: 1px;margin: -1px;overflow: hidden;padding: 0;position: absolute;width: 1px;}#sk-container-id-2 div.sk-estimator {font-family: monospace;background-color: #f0f8ff;border: 1px dotted black;border-radius: 0.25em;box-sizing: border-box;margin-bottom: 0.5em;}#sk-container-id-2 div.sk-estimator:hover {background-color: #d4ebff;}#sk-container-id-2 div.sk-parallel-item::after {content: \"\";width: 100%;border-bottom: 1px solid gray;flex-grow: 1;}#sk-container-id-2 div.sk-label:hover label.sk-toggleable__label {background-color: #d4ebff;}#sk-container-id-2 div.sk-serial::before {content: \"\";position: absolute;border-left: 1px solid gray;box-sizing: border-box;top: 0;bottom: 0;left: 50%;z-index: 0;}#sk-container-id-2 div.sk-serial {display: flex;flex-direction: column;align-items: center;background-color: white;padding-right: 0.2em;padding-left: 0.2em;position: relative;}#sk-container-id-2 div.sk-item {position: relative;z-index: 1;}#sk-container-id-2 div.sk-parallel {display: flex;align-items: stretch;justify-content: center;background-color: white;position: relative;}#sk-container-id-2 div.sk-item::before, #sk-container-id-2 div.sk-parallel-item::before {content: \"\";position: absolute;border-left: 1px solid gray;box-sizing: border-box;top: 0;bottom: 0;left: 50%;z-index: -1;}#sk-container-id-2 div.sk-parallel-item {display: flex;flex-direction: column;z-index: 1;position: relative;background-color: white;}#sk-container-id-2 div.sk-parallel-item:first-child::after {align-self: flex-end;width: 50%;}#sk-container-id-2 div.sk-parallel-item:last-child::after {align-self: flex-start;width: 50%;}#sk-container-id-2 div.sk-parallel-item:only-child::after {width: 0;}#sk-container-id-2 div.sk-dashed-wrapped {border: 1px dashed gray;margin: 0 0.4em 0.5em 0.4em;box-sizing: border-box;padding-bottom: 0.4em;background-color: white;}#sk-container-id-2 div.sk-label label {font-family: monospace;font-weight: bold;display: inline-block;line-height: 1.2em;}#sk-container-id-2 div.sk-label-container {text-align: center;}#sk-container-id-2 div.sk-container {/* jupyter's `normalize.less` sets `[hidden] { display: none; }` but bootstrap.min.css set `[hidden] { display: none !important; }` so we also need the `!important` here to be able to override the default hidden behavior on the sphinx rendered scikit-learn.org. See: https://github.com/scikit-learn/scikit-learn/issues/21755 */display: inline-block !important;position: relative;}#sk-container-id-2 div.sk-text-repr-fallback {display: none;}</style><div id=\"sk-container-id-2\" class=\"sk-top-container\"><div class=\"sk-text-repr-fallback\"><pre>DecisionTreeClassifier()</pre><b>In a Jupyter environment, please rerun this cell to show the HTML representation or trust the notebook. <br />On GitHub, the HTML representation is unable to render, please try loading this page with nbviewer.org.</b></div><div class=\"sk-container\" hidden><div class=\"sk-item\"><div class=\"sk-estimator sk-toggleable\"><input class=\"sk-toggleable__control sk-hidden--visually\" id=\"sk-estimator-id-2\" type=\"checkbox\" checked><label for=\"sk-estimator-id-2\" class=\"sk-toggleable__label sk-toggleable__label-arrow\">DecisionTreeClassifier</label><div class=\"sk-toggleable__content\"><pre>DecisionTreeClassifier()</pre></div></div></div></div></div>"
      ],
      "text/plain": [
       "DecisionTreeClassifier()"
      ]
     },
     "execution_count": 29,
     "metadata": {},
     "output_type": "execute_result"
    }
   ],
   "source": [
    "# Crear y entrenar el árbol de clasificación\n",
    "clf = DecisionTreeClassifier()\n",
    "clf.fit(X_train, y_train)"
   ]
  },
  {
   "cell_type": "code",
   "execution_count": 30,
   "id": "90378c46",
   "metadata": {},
   "outputs": [
    {
     "data": {
      "text/html": [
       "<div>\n",
       "<style scoped>\n",
       "    .dataframe tbody tr th:only-of-type {\n",
       "        vertical-align: middle;\n",
       "    }\n",
       "\n",
       "    .dataframe tbody tr th {\n",
       "        vertical-align: top;\n",
       "    }\n",
       "\n",
       "    .dataframe thead th {\n",
       "        text-align: right;\n",
       "    }\n",
       "</style>\n",
       "<table border=\"1\" class=\"dataframe\">\n",
       "  <thead>\n",
       "    <tr style=\"text-align: right;\">\n",
       "      <th></th>\n",
       "      <th>week</th>\n",
       "      <th>year</th>\n",
       "    </tr>\n",
       "  </thead>\n",
       "  <tbody>\n",
       "    <tr>\n",
       "      <th>397</th>\n",
       "      <td>3.0</td>\n",
       "      <td>2022.0</td>\n",
       "    </tr>\n",
       "    <tr>\n",
       "      <th>408</th>\n",
       "      <td>9.0</td>\n",
       "      <td>2022.0</td>\n",
       "    </tr>\n",
       "    <tr>\n",
       "      <th>414</th>\n",
       "      <td>12.0</td>\n",
       "      <td>2022.0</td>\n",
       "    </tr>\n",
       "    <tr>\n",
       "      <th>385</th>\n",
       "      <td>6.0</td>\n",
       "      <td>2022.0</td>\n",
       "    </tr>\n",
       "    <tr>\n",
       "      <th>406</th>\n",
       "      <td>7.0</td>\n",
       "      <td>2022.0</td>\n",
       "    </tr>\n",
       "    <tr>\n",
       "      <th>395</th>\n",
       "      <td>1.0</td>\n",
       "      <td>2023.0</td>\n",
       "    </tr>\n",
       "    <tr>\n",
       "      <th>409</th>\n",
       "      <td>5.0</td>\n",
       "      <td>2022.0</td>\n",
       "    </tr>\n",
       "    <tr>\n",
       "      <th>415</th>\n",
       "      <td>11.0</td>\n",
       "      <td>2022.0</td>\n",
       "    </tr>\n",
       "  </tbody>\n",
       "</table>\n",
       "</div>"
      ],
      "text/plain": [
       "     week    year\n",
       "397   3.0  2022.0\n",
       "408   9.0  2022.0\n",
       "414  12.0  2022.0\n",
       "385   6.0  2022.0\n",
       "406   7.0  2022.0\n",
       "395   1.0  2023.0\n",
       "409   5.0  2022.0\n",
       "415  11.0  2022.0"
      ]
     },
     "execution_count": 30,
     "metadata": {},
     "output_type": "execute_result"
    }
   ],
   "source": [
    "X_train"
   ]
  },
  {
   "cell_type": "code",
   "execution_count": 31,
   "id": "3ad79392",
   "metadata": {},
   "outputs": [
    {
     "name": "stdout",
     "output_type": "stream",
     "text": [
      "Exactitud: 0.0\n"
     ]
    }
   ],
   "source": [
    "# Hacer predicciones en el conjunto de datos de prueba\n",
    "y_pred = clf.predict(X_test)\n",
    "\n",
    "# Comparar las predicciones con los valores reales\n",
    "from sklearn.metrics import accuracy_score\n",
    "print(\"Exactitud:\", accuracy_score(y_test, y_pred))"
   ]
  },
  {
   "cell_type": "code",
   "execution_count": 32,
   "id": "eb505731",
   "metadata": {},
   "outputs": [
    {
     "data": {
      "text/html": [
       "<div>\n",
       "<style scoped>\n",
       "    .dataframe tbody tr th:only-of-type {\n",
       "        vertical-align: middle;\n",
       "    }\n",
       "\n",
       "    .dataframe tbody tr th {\n",
       "        vertical-align: top;\n",
       "    }\n",
       "\n",
       "    .dataframe thead th {\n",
       "        text-align: right;\n",
       "    }\n",
       "</style>\n",
       "<table border=\"1\" class=\"dataframe\">\n",
       "  <thead>\n",
       "    <tr style=\"text-align: right;\">\n",
       "      <th></th>\n",
       "      <th>week</th>\n",
       "      <th>year</th>\n",
       "    </tr>\n",
       "  </thead>\n",
       "  <tbody>\n",
       "    <tr>\n",
       "      <th>407</th>\n",
       "      <td>8.0</td>\n",
       "      <td>2022.0</td>\n",
       "    </tr>\n",
       "    <tr>\n",
       "      <th>396</th>\n",
       "      <td>4.0</td>\n",
       "      <td>2022.0</td>\n",
       "    </tr>\n",
       "    <tr>\n",
       "      <th>416</th>\n",
       "      <td>10.0</td>\n",
       "      <td>2022.0</td>\n",
       "    </tr>\n",
       "  </tbody>\n",
       "</table>\n",
       "</div>"
      ],
      "text/plain": [
       "     week    year\n",
       "407   8.0  2022.0\n",
       "396   4.0  2022.0\n",
       "416  10.0  2022.0"
      ]
     },
     "execution_count": 32,
     "metadata": {},
     "output_type": "execute_result"
    }
   ],
   "source": [
    "X_test"
   ]
  },
  {
   "cell_type": "code",
   "execution_count": 33,
   "id": "359336ad",
   "metadata": {},
   "outputs": [
    {
     "data": {
      "text/plain": [
       "407    3\n",
       "396    6\n",
       "416    6\n",
       "Name: totalweek, dtype: int64"
      ]
     },
     "execution_count": 33,
     "metadata": {},
     "output_type": "execute_result"
    }
   ],
   "source": [
    "y_test"
   ]
  },
  {
   "cell_type": "code",
   "execution_count": 34,
   "id": "7613187d",
   "metadata": {},
   "outputs": [
    {
     "name": "stdout",
     "output_type": "stream",
     "text": [
      "[5 5 7]\n"
     ]
    }
   ],
   "source": [
    "print(y_pred)"
   ]
  },
  {
   "cell_type": "code",
   "execution_count": null,
   "id": "005f20c4",
   "metadata": {},
   "outputs": [],
   "source": []
  },
  {
   "cell_type": "code",
   "execution_count": 35,
   "id": "cc29197a",
   "metadata": {},
   "outputs": [],
   "source": [
    "x_reg = df_safo_FLUZONE_QUADRIVALENT['week'].values \n",
    "y_reg = df_safo_FLUZONE_QUADRIVALENT['totalweek'].values "
   ]
  },
  {
   "cell_type": "code",
   "execution_count": 36,
   "id": "685f6d07",
   "metadata": {},
   "outputs": [],
   "source": [
    "def fx(x1,coef):\n",
    "    fx = 0\n",
    "    n = len(coef) - 1\n",
    "    for p in coef:\n",
    "        fx = fx + p*x1**n\n",
    "        n = n - 1\n",
    "    return fx"
   ]
  },
  {
   "cell_type": "code",
   "execution_count": 37,
   "id": "bfefd8d8",
   "metadata": {},
   "outputs": [
    {
     "data": {
      "image/png": "[encoded data removed]",
      "text/plain": [
       "<Figure size 2000x1000 with 1 Axes>"
      ]
     },
     "metadata": {},
     "output_type": "display_data"
    }
   ],
   "source": [
    "month = 5\n",
    "\n",
    "x_reg = df_safo_FLUZONE_QUADRIVALENT['week'].values \n",
    "y_reg = df_safo_FLUZONE_QUADRIVALENT['totalweek'].values \n",
    "\n",
    "grado = np.arange( 3 ,10 ,1 ) #de 8 a 288 ce 1 en 1\n",
    "aproxi = np.array([])\n",
    "y_pred_vec = np.array([])\n",
    "for i in grado:\n",
    "        coef = np.polyfit(x_reg,y_reg,i)\n",
    "        p = np.polyval (coef, month)\n",
    "        aproxi= np.append(aproxi, p)\n",
    "        \n",
    "        # para la MSE\n",
    "        y_pred_vec = np.array([])\n",
    "        for j in x_reg: \n",
    "                y_pred = np.polyval (coef, j) \n",
    "                y_pred_vec = np.append(y_pred_vec,y_pred)\n",
    "                #print (f\"los y: {y}\")\n",
    "                #print(f\"los y_aprox: {y_pred_vec}\")\n",
    "                MSE = (sum( (y_reg - y_pred_vec[0])**2 )) /len (y_reg)\n",
    "                #print(f\"Para grado {i} el {month} es: {MSE}\")\n",
    "plt.figure(figsize=[20,10])\n",
    "plt.title(\"Grado del polinomio vs predicción\") \n",
    "plt.plot(grado, aproxi, \"--\", linewidth=3, color='red') \n",
    "plt.grid(\"on\")\n",
    "plt.show()"
   ]
  },
  {
   "cell_type": "code",
   "execution_count": 38,
   "id": "18a06ef2",
   "metadata": {},
   "outputs": [
    {
     "data": {
      "text/plain": [
       "3"
      ]
     },
     "execution_count": 38,
     "metadata": {},
     "output_type": "execute_result"
    }
   ],
   "source": [
    "MinimosCuadrados = []\n",
    "MinimosCuadrados = np.column_stack((grado, aproxi))\n",
    "max=-1000\n",
    "max_pos=0\n",
    "for mc in MinimosCuadrados:\n",
    "    if mc[1] > max :\n",
    "        max_pos = int( mc[0] )\n",
    "        max = mc[1]\n",
    "max_pos"
   ]
  },
  {
   "cell_type": "code",
   "execution_count": 48,
   "id": "99c3f08f",
   "metadata": {},
   "outputs": [
    {
     "name": "stdout",
     "output_type": "stream",
     "text": [
      "para el valor  5 la prediccion es 4\n"
     ]
    },
    {
     "data": {
      "image/png": "[encoded data removed]",
      "text/plain": [
       "<Figure size 1500x500 with 1 Axes>"
      ]
     },
     "metadata": {},
     "output_type": "display_data"
    }
   ],
   "source": [
    "month = 5 \n",
    "coef = np.polyfit(x_reg,y_reg,max_pos)\n",
    "p = round( np.polyval(coef,month) )\n",
    "print( f\"para el valor  {month} la prediccion es {p}\" )\n",
    "x1= np.linspace (13, month+1, 0)\n",
    "y1 = fx(x1, coef)   # funcion\n",
    "plt.figure(figsize=[15,5])\n",
    "plt.title(\"Cantidad de litros vs año. Para grado: \"+str( max_pos ) )\n",
    "\n",
    "plt.scatter(x,y,s=120, c='blueviolet')\n",
    "\n",
    "plt.plot(x1,y1,\"--\", linewidth=3, color=\"orange\" ) \n",
    "plt.scatter (month,p,s=200,c='red')        \n",
    "plt.yticks(range(0,20,2))                 \n",
    "ax = plt.gca()\n",
    "ax.set_xlabel(\"Month\")\n",
    "ax.set_ylabel(\"Cantidad vacunas a comprar\") \n",
    "plt.grid(\"on\")\n",
    "plt.show() "
   ]
  },
  {
   "cell_type": "code",
   "execution_count": 40,
   "id": "575953fc",
   "metadata": {},
   "outputs": [],
   "source": [
    "#pip install tensorflow "
   ]
  },
  {
   "cell_type": "code",
   "execution_count": 41,
   "id": "9db0335b",
   "metadata": {},
   "outputs": [],
   "source": [
    "#pip install keras"
   ]
  },
  {
   "cell_type": "code",
   "execution_count": 42,
   "id": "db67a260",
   "metadata": {},
   "outputs": [],
   "source": [
    "from keras.layers import Dense\n",
    "from keras.models import Sequential\n",
    "from sklearn.model_selection import train_test_split"
   ]
  },
  {
   "cell_type": "code",
   "execution_count": 43,
   "id": "d01eeca8",
   "metadata": {},
   "outputs": [],
   "source": [
    "X = df_safo_FLUZONE_QUADRIVALENT['week']\n",
    "y = df_safo_FLUZONE_QUADRIVALENT['totalweek']\n",
    "\n",
    "X_train, X_test, y_train, y_test = train_test_split(X, y, test_size=0.05, random_state=5)\n",
    "\n",
    "X_train = np.array(X_train).reshape(-1, 1)\n",
    "X_test = np.array(X_test).reshape(-1, 1)"
   ]
  },
  {
   "cell_type": "code",
   "execution_count": 44,
   "id": "ede2c5a5",
   "metadata": {},
   "outputs": [],
   "source": [
    "model = Sequential()"
   ]
  },
  {
   "cell_type": "code",
   "execution_count": 45,
   "id": "da703cbe",
   "metadata": {},
   "outputs": [
    {
     "name": "stdout",
     "output_type": "stream",
     "text": [
      "Epoch 1/10\n",
      "3/3 [==============================] - 1s 140ms/step - loss: 23.4382 - val_loss: 24.5462\n",
      "Epoch 2/10\n",
      "3/3 [==============================] - 0s 28ms/step - loss: 22.8560 - val_loss: 23.9712\n",
      "Epoch 3/10\n",
      "3/3 [==============================] - 0s 28ms/step - loss: 22.2625 - val_loss: 23.3959\n",
      "Epoch 4/10\n",
      "3/3 [==============================] - 0s 28ms/step - loss: 21.6894 - val_loss: 22.8253\n",
      "Epoch 5/10\n",
      "3/3 [==============================] - 0s 28ms/step - loss: 21.1330 - val_loss: 22.2679\n",
      "Epoch 6/10\n",
      "3/3 [==============================] - 0s 28ms/step - loss: 20.5531 - val_loss: 21.7213\n",
      "Epoch 7/10\n",
      "3/3 [==============================] - 0s 28ms/step - loss: 20.0245 - val_loss: 21.1723\n",
      "Epoch 8/10\n",
      "3/3 [==============================] - 0s 28ms/step - loss: 19.4912 - val_loss: 20.6246\n",
      "Epoch 9/10\n",
      "3/3 [==============================] - 0s 28ms/step - loss: 18.9935 - val_loss: 20.0882\n",
      "Epoch 10/10\n",
      "3/3 [==============================] - 0s 28ms/step - loss: 18.4735 - val_loss: 19.5845\n",
      "1/1 [==============================] - 0s 125ms/step\n"
     ]
    },
    {
     "data": {
      "text/plain": [
       "1"
      ]
     },
     "execution_count": 45,
     "metadata": {},
     "output_type": "execute_result"
    }
   ],
   "source": [
    "model.add(Dense(28, input_shape=(1,), activation='sigmoid'))\n",
    "\n",
    "model.add(Dense(1))\n",
    "\n",
    "model.compile(loss='mean_squared_error', optimizer='adam')\n",
    "\n",
    "model.fit(X_train, y_train, epochs=10, batch_size=4, validation_split=0.05)\n",
    "\n",
    "#inicio test\n",
    "number = 5\n",
    "number_array = np.array([number]).reshape(-1, 1)\n",
    "y_pred = model.predict(number_array)\n",
    "\n",
    "pred = round( (y_pred[0])[0] )\n",
    "pred\n",
    "#fin test\n",
    "\n",
    "#y_pred = model.predict(X_test)"
   ]
  },
  {
   "cell_type": "code",
   "execution_count": 46,
   "id": "a72459ff",
   "metadata": {},
   "outputs": [
    {
     "name": "stdout",
     "output_type": "stream",
     "text": [
      "Mean squared error: 6.19\n"
     ]
    }
   ],
   "source": [
    "from sklearn.metrics import mean_squared_error\n",
    "print(\"Mean squared error: {:.2f}\".format(mean_squared_error(y_test, y_pred)))"
   ]
  },
  {
   "cell_type": "code",
   "execution_count": 47,
   "id": "97b77307",
   "metadata": {},
   "outputs": [
    {
     "data": {
      "text/plain": [
       "numpy.ndarray"
      ]
     },
     "execution_count": 47,
     "metadata": {},
     "output_type": "execute_result"
    }
   ],
   "source": [
    "type(y_pred)"
   ]
  },
  {
   "cell_type": "code",
   "execution_count": null,
   "id": "a49a044f",
   "metadata": {},
   "outputs": [],
   "source": []
  },
  {
   "cell_type": "code",
   "execution_count": null,
   "id": "8a4442f5",
   "metadata": {},
   "outputs": [],
   "source": []
  },
  {
   "cell_type": "code",
   "execution_count": null,
   "id": "08db5195",
   "metadata": {},
   "outputs": [],
   "source": []
  },
  {
   "cell_type": "code",
   "execution_count": null,
   "id": "1792b226",
   "metadata": {},
   "outputs": [],
   "source": []
  }
 ],
 "metadata": {
  "kernelspec": {
   "display_name": "Python 3 (ipykernel)",
   "language": "python",
   "name": "python3"
  },
  "language_info": {
   "codemirror_mode": {
    "name": "ipython",
    "version": 3
   },
   "file_extension": ".py",
   "mimetype": "text/x-python",
   "name": "python",
   "nbconvert_exporter": "python",
   "pygments_lexer": "ipython3",
   "version": "3.9.13"
  }
 },
 "nbformat": 4,
 "nbformat_minor": 5
}
